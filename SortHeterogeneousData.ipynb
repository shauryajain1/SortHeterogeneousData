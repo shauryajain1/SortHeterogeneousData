{
  "nbformat": 4,
  "nbformat_minor": 0,
  "metadata": {
    "colab": {
      "provenance": [],
      "authorship_tag": "ABX9TyPvbJNTeab4T1Sj4XeodUua",
      "include_colab_link": true
    },
    "kernelspec": {
      "name": "python3",
      "display_name": "Python 3"
    },
    "language_info": {
      "name": "python"
    }
  },
  "cells": [
    {
      "cell_type": "markdown",
      "metadata": {
        "id": "view-in-github",
        "colab_type": "text"
      },
      "source": [
        "<a href=\"https://colab.research.google.com/github/shauryajain1/SortHeterogeneousData/blob/main/SortHeterogeneousData.ipynb\" target=\"_parent\"><img src=\"https://colab.research.google.com/assets/colab-badge.svg\" alt=\"Open In Colab\"/></a>"
      ]
    },
    {
      "cell_type": "code",
      "execution_count": 6,
      "metadata": {
        "colab": {
          "base_uri": "https://localhost:8080/"
        },
        "id": "q8m701_96C-v",
        "outputId": "c51e7ef5-d93a-463a-88e4-3344b74ec49e"
      },
      "outputs": [
        {
          "output_type": "stream",
          "name": "stdout",
          "text": [
            "['Ram', 1, 'Shyam', 2, 'Aman', 3]\n",
            "The original list : ['Ram', 1, 'Shyam', 2, 'Aman', 3]\n",
            "List after mixed sorting : [1, 2, 3, 'Aman', 'Ram', 'Shyam']\n"
          ]
        }
      ],
      "source": [
        "from ast import Lambda\n",
        "\n",
        "def mixs(num):\n",
        "    try:\n",
        "        ele = int(num)\n",
        "        return (0, ele, '')\n",
        "    except ValueError:\n",
        "        return (1, num, '')\n",
        " \n",
        " \n",
        "# initialize list\n",
        "L = [\"Ram\",1,\"Shyam\",2,\"Aman\",3]\n",
        "print(L)\n",
        "\n",
        " \n",
        "# printing original list\n",
        "print(\"The original list : \" + str(L))\n",
        " \n",
        "# Sort Mixed List\n",
        "# using sort() + comparator\n",
        "L.sort(key = mixs)\n",
        " \n",
        "# printing result\n",
        "print(\"List after mixed sorting : \" + str(L))"
      ]
    }
  ]
}